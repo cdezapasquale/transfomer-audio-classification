{
  "nbformat": 4,
  "nbformat_minor": 0,
  "metadata": {
    "colab": {
      "name": " audio-classification.ipynb",
      "provenance": [],
      "include_colab_link": true
    },
    "kernelspec": {
      "display_name": "Python 3",
      "language": "python",
      "name": "python3"
    },
    "language_info": {
      "codemirror_mode": {
        "name": "ipython",
        "version": 3
      },
      "file_extension": ".py",
      "mimetype": "text/x-python",
      "name": "python",
      "nbconvert_exporter": "python",
      "pygments_lexer": "ipython3",
      "version": "3.6.6"
    }
  },
  "cells": [
    {
      "cell_type": "markdown",
      "metadata": {
        "id": "view-in-github",
        "colab_type": "text"
      },
      "source": [
        "<a href=\"https://colab.research.google.com/github/facundodeza/transfomer-audio-classification/blob/master/audio_classification.ipynb\" target=\"_parent\"><img src=\"https://colab.research.google.com/assets/colab-badge.svg\" alt=\"Open In Colab\"/></a>"
      ]
    },
    {
      "cell_type": "code",
      "metadata": {
        "colab_type": "code",
        "id": "iPueJ5fgFXyO",
        "colab": {}
      },
      "source": [
        "# We load the requiere libraries\n",
        "import numpy as np\n",
        "import pandas as pd \n",
        "import os\n",
        "import librosa\n",
        "import matplotlib.pyplot as plt\n",
        "import gc\n",
        "\n",
        "from tqdm import tqdm, tqdm_notebook\n",
        "from sklearn.metrics import label_ranking_average_precision_score\n",
        "from sklearn.model_selection import train_test_split\n",
        "from sklearn.preprocessing import MultiLabelBinarizer\n",
        "from sklearn.model_selection import train_test_split\n",
        "\n",
        "import zipfile\n",
        "\n",
        "\n",
        "tqdm.pandas()"
      ],
      "execution_count": 0,
      "outputs": []
    },
    {
      "cell_type": "code",
      "metadata": {
        "colab_type": "code",
        "id": "xUqQSW-NGIXF",
        "colab": {}
      },
      "source": [
        "from __future__ import absolute_import, division, print_function, unicode_literals\n",
        "\n",
        "\n",
        "import tensorflow as tf"
      ],
      "execution_count": 0,
      "outputs": []
    },
    {
      "cell_type": "code",
      "metadata": {
        "colab_type": "code",
        "id": "ebyq6pJaFXyT",
        "colab": {}
      },
      "source": [
        "#We load csv with files name. We will use for reading the data\n",
        "df = pd.read_csv('../input/freesound-audio-tagging-2019/train_curated.csv')\n",
        "#df_noisy = pd.read_csv('../input/freesound-audio-tagging-2019/train_noisy.csv')\n",
        "\n",
        "#train=pd.concat([df, df_noisy], axis=0)\n",
        "\n",
        "test_df = pd.read_csv('../input/freesound-audio-tagging-2019/sample_submission.csv')\n"
      ],
      "execution_count": 0,
      "outputs": []
    },
    {
      "cell_type": "code",
      "metadata": {
        "colab_type": "code",
        "id": "fu1s4aUVFXyX",
        "colab": {}
      },
      "source": [
        "# We get the labels from the test data, we start from 1 because 0 is the file name\n",
        "# Also, test set only has 80 classes and want to predict according to that.\n",
        "# Of course, you could create \n",
        "# From here we will create Y target\n",
        "\n",
        "label_columns = test_df.columns[1:]\n",
        "labels = dict((label, index) for index, label in enumerate(label_columns))\n",
        "\n",
        "\n",
        "\n",
        "\n",
        "\n",
        "\n"
      ],
      "execution_count": 0,
      "outputs": []
    },
    {
      "cell_type": "code",
      "metadata": {
        "colab_type": "code",
        "id": "uTmsBU7CKu7p",
        "outputId": "c2463dc8-40d6-45fd-9a81-5a314f8792e8",
        "colab": {}
      },
      "source": [
        "## We can see that several targets are in same space. We need to reshape it into a hot encode format\n",
        "print(df['labels'][:10])"
      ],
      "execution_count": 0,
      "outputs": [
        {
          "output_type": "stream",
          "text": [
            "0                     Bark\n",
            "1                 Raindrop\n",
            "2          Finger_snapping\n",
            "3                      Run\n",
            "4          Finger_snapping\n",
            "5               Whispering\n",
            "6    Acoustic_guitar,Strum\n",
            "7                   Hi-hat\n",
            "8                Bass_drum\n",
            "9           Crowd,Cheering\n",
            "Name: labels, dtype: object\n"
          ],
          "name": "stdout"
        }
      ]
    },
    {
      "cell_type": "code",
      "metadata": {
        "colab_type": "code",
        "id": "H5K-aYlWFXyr",
        "outputId": "cbf7ff3d-c19c-4d5d-a57b-76fc61eacff5",
        "colab": {}
      },
      "source": [
        "#We split the labels\n",
        "y_helper=df['labels'].str.split()\n",
        "\n",
        "#We say it our labels\n",
        "mlb=MultiLabelBinarizer(classes=list(labels.keys()))\n",
        "\n",
        "#We create our hot encoder target\n",
        "Y=mlb.fit_transform(y_helper)\n",
        "\n"
      ],
      "execution_count": 0,
      "outputs": [
        {
          "output_type": "stream",
          "text": [
            "/opt/conda/lib/python3.6/site-packages/sklearn/preprocessing/label.py:951: UserWarning: unknown class(es) ['Acoustic_guitar,Strum', 'Applause,Cheering', 'Applause,Cheering,Clapping', 'Applause,Clapping', 'Applause,Crowd', 'Applause,Crowd,Cheering', 'Applause,Crowd,Clapping', 'Applause,Dishes_and_pots_and_pans,Crowd,Cheering,Clapping,Child_speech_and_kid_speaking', 'Applause,Harmonica', 'Applause,Harmonica,Cheering', 'Applause,Screaming,Crowd', 'Bark,Chirp_and_tweet', 'Bark,Cricket', 'Bark,Cricket,Buzz', 'Bark,Walk_and_footsteps', 'Bathtub_(filling_or_washing),Child_speech_and_kid_speaking', 'Bathtub_(filling_or_washing),Gurgling', 'Bathtub_(filling_or_washing),Sink_(filling_or_washing)', 'Bathtub_(filling_or_washing),Sink_(filling_or_washing),Water_tap_and_faucet', 'Bathtub_(filling_or_washing),Water_tap_and_faucet', 'Burping_and_eructation,Chewing_and_mastication', 'Car_passing_by,Accelerating_and_revving_and_vroom', 'Car_passing_by,Race_car_and_auto_racing', 'Car_passing_by,Traffic_noise_and_roadway_noise', 'Cheering,Clapping', 'Cheering,Yell', 'Chirp_and_tweet,Buzz', 'Chirp_and_tweet,Cricket', 'Chirp_and_tweet,Slam', 'Church_bell,Traffic_noise_and_roadway_noise', 'Clapping,Chirp_and_tweet', 'Cricket,Buzz', 'Cricket,Waves_and_surf', 'Crowd,Bus', 'Crowd,Cheering', 'Crowd,Cheering,Yell', 'Crowd,Clapping', 'Crowd,Gasp', 'Crowd,Race_car_and_auto_racing,Accelerating_and_revving_and_vroom', 'Crowd,Yell', 'Cupboard_open_or_close,Drawer_open_or_close', 'Cutlery_and_silverware,Chink_and_clink', 'Cutlery_and_silverware,Dishes_and_pots_and_pans', 'Cutlery_and_silverware,Dishes_and_pots_and_pans,Chink_and_clink', 'Cutlery_and_silverware,Drawer_open_or_close', 'Cutlery_and_silverware,Sink_(filling_or_washing)', 'Cutlery_and_silverware,Tap', 'Dishes_and_pots_and_pans,Chink_and_clink', 'Dishes_and_pots_and_pans,Cupboard_open_or_close', 'Dishes_and_pots_and_pans,Hiss', 'Dishes_and_pots_and_pans,Sink_(filling_or_washing)', 'Drip,Bathtub_(filling_or_washing)', 'Drip,Gurgling', 'Drip,Sink_(filling_or_washing)', 'Drip,Sink_(filling_or_washing),Water_tap_and_faucet', 'Drip,Trickle_and_dribble', 'Drip,Water_tap_and_faucet', 'Electric_guitar,Acoustic_guitar', 'Electric_guitar,Bass_drum', 'Electric_guitar,Bass_guitar', 'Electric_guitar,Bass_guitar,Hi-hat,Bass_drum', 'Electric_guitar,Squeak', 'Electric_guitar,Strum', 'Fart,Drawer_open_or_close', 'Female_singing,Male_singing', 'Female_speech_and_woman_speaking,Walk_and_footsteps', 'Female_speech_and_woman_speaking,Whispering', 'Female_speech_and_woman_speaking,Yell', 'Fill_(with_liquid),Bathtub_(filling_or_washing)', 'Fill_(with_liquid),Bathtub_(filling_or_washing),Water_tap_and_faucet', 'Fill_(with_liquid),Sink_(filling_or_washing)', 'Fill_(with_liquid),Sink_(filling_or_washing),Water_tap_and_faucet,Gurgling', 'Fill_(with_liquid),Toilet_flush', 'Fill_(with_liquid),Water_tap_and_faucet', 'Frying_(food),Crackle', 'Frying_(food),Dishes_and_pots_and_pans', 'Gurgling,Chink_and_clink', 'Hi-hat,Bass_drum', 'Hiss,Bus', 'Knock,Dishes_and_pots_and_pans', 'Knock,Run', 'Knock,Slam', 'Male_speech_and_man_speaking,Female_speech_and_woman_speaking', 'Male_speech_and_man_speaking,Male_singing', 'Male_speech_and_man_speaking,Walk_and_footsteps', 'Male_speech_and_man_speaking,Whispering', 'Male_speech_and_man_speaking,Yell', 'Meow,Bathtub_(filling_or_washing)', 'Meow,Clapping', 'Meow,Hiss', 'Meow,Purr', 'Motorcycle,Accelerating_and_revving_and_vroom', 'Motorcycle,Traffic_noise_and_roadway_noise', 'Race_car_and_auto_racing,Accelerating_and_revving_and_vroom', 'Raindrop,Bathtub_(filling_or_washing)', 'Raindrop,Drip', 'Raindrop,Drip,Trickle_and_dribble', 'Raindrop,Drip,Water_tap_and_faucet', 'Run,Slam', 'Screaming,Child_speech_and_kid_speaking', 'Screaming,Crowd', 'Screaming,Crowd,Cheering', 'Screaming,Yell', 'Shatter,Chink_and_clink', 'Sink_(filling_or_washing),Gurgling', 'Sink_(filling_or_washing),Water_tap_and_faucet', 'Slam,Bus', 'Slam,Microwave_oven', 'Sneeze,Church_bell', 'Squeak,Accelerating_and_revving_and_vroom', 'Squeak,Chirp_and_tweet', 'Squeak,Clapping', 'Squeak,Cupboard_open_or_close', 'Squeak,Dishes_and_pots_and_pans', 'Squeak,Dishes_and_pots_and_pans,Trickle_and_dribble', 'Squeak,Slam', 'Squeak,Walk_and_footsteps', 'Squeak,Writing', 'Stream,Chirp_and_tweet', 'Stream,Trickle_and_dribble', 'Tap,Acoustic_guitar', 'Tap,Bass_drum', 'Tap,Clapping', 'Tap,Dishes_and_pots_and_pans', 'Tap,Dishes_and_pots_and_pans,Chink_and_clink', 'Toilet_flush,Gurgling', 'Toilet_flush,Water_tap_and_faucet', 'Traffic_noise_and_roadway_noise,Bus', 'Trickle_and_dribble,Bathtub_(filling_or_washing),Gurgling', 'Trickle_and_dribble,Bathtub_(filling_or_washing),Sink_(filling_or_washing),Gurgling', 'Trickle_and_dribble,Sink_(filling_or_washing)', 'Trickle_and_dribble,Water_tap_and_faucet', 'Walk_and_footsteps,Chirp_and_tweet', 'Walk_and_footsteps,Run', 'Walk_and_footsteps,Slam', 'Walk_and_footsteps,Stream', 'Walk_and_footsteps,Traffic_noise_and_roadway_noise', 'Walk_and_footsteps,Waves_and_surf', 'Whispering,Acoustic_guitar'] will be ignored\n",
            "  .format(sorted(unknown, key=str)))\n"
          ],
          "name": "stderr"
        }
      ]
    },
    {
      "cell_type": "code",
      "metadata": {
        "colab_type": "code",
        "id": "wigpoc-oFXyf",
        "colab": {}
      },
      "source": [
        "# unzipping our files\n",
        "\n",
        "\n",
        "with zipfile.ZipFile('../input/freesound-audio-tagging-2019/train_curated.zip', 'r') as zip_ref:\n",
        "    zip_ref.extractall('../output/kaggle/working/train')"
      ],
      "execution_count": 0,
      "outputs": []
    },
    {
      "cell_type": "code",
      "metadata": {
        "colab_type": "code",
        "id": "vJ0DebAQFXyo",
        "colab": {}
      },
      "source": [
        "#import zipfile\n",
        "#with zipfile.ZipFile('../input/freesound-audio-tagging-2019/train_noisy.zip', 'r') as zip_ref:\n",
        " #   zip_ref.extractall('../output/kaggle/working/train')\n",
        "\n",
        "    #\n"
      ],
      "execution_count": 0,
      "outputs": []
    },
    {
      "cell_type": "code",
      "metadata": {
        "colab_type": "code",
        "id": "_mJMOENuFXyk",
        "colab": {}
      },
      "source": [
        "## We define this parameters for our audio processing\n",
        "\n",
        "class conf:\n",
        "    # Preprocessing settings\n",
        "    sampling_rate = 44100\n",
        "    duration = 4\n",
        "    hop_length = 300\n",
        "    fmin = 20\n",
        "    fmax = sampling_rate // 2\n",
        "    n_mels = 128\n",
        "    n_fft = n_mels * 20\n",
        "    samples = sampling_rate * duration\n",
        "\n",
        "\n"
      ],
      "execution_count": 0,
      "outputs": []
    },
    {
      "cell_type": "code",
      "metadata": {
        "colab_type": "code",
        "id": "eneZDekCNtNF",
        "colab": {}
      },
      "source": [
        "train_path = '../output/kaggle/working/train'\n",
        "#train_noisy_path = '../input/train_noisy/'\n"
      ],
      "execution_count": 0,
      "outputs": []
    },
    {
      "cell_type": "code",
      "metadata": {
        "colab_type": "code",
        "id": "m_6O_hIOFXzX",
        "colab": {}
      },
      "source": [
        "## We read the audio data, and trim or padded, if it is needed\n",
        "## This code was borrowed from https://www.kaggle.com/christofhenkel/keras-baseline-lstm-attention-5-fold\n",
        "\n",
        "def read_audio(conf, pathname, trim_long_data):\n",
        "    y, sr = librosa.load(pathname, sr=conf.sampling_rate)\n",
        "    # trim silence\n",
        "    if 0 < len(y): # workaround: 0 length causes error\n",
        "        y, _ = librosa.effects.trim(y) # trim, top_db=default(60)\n",
        "    # make it unified length to conf.samples\n",
        "    if len(y) > conf.samples: # long enough\n",
        "        if trim_long_data:\n",
        "            y = y[0:0+conf.samples]\n",
        "    else: # pad blank\n",
        "        padding = conf.samples - len(y)    # add padding at both ends\n",
        "        offset = padding // 2\n",
        "        y = np.pad(y, (offset, conf.samples - len(y) - offset), 'constant')\n",
        "    return y\n",
        "\n",
        "\n",
        "## We convert our raw audio into a mel spectogram\n",
        "def audio_to_melspectrogram(conf, audio):\n",
        "    spectrogram = librosa.feature.melspectrogram(audio, \n",
        "                                                 sr=conf.sampling_rate,\n",
        "                                                 n_mels=conf.n_mels,\n",
        "                                                 hop_length=conf.hop_length,\n",
        "                                                 n_fft=conf.n_fft,\n",
        "                                                 fmin=conf.fmin,\n",
        "                                                 fmax=conf.fmax)\n",
        "    spectrogram = librosa.power_to_db(spectrogram)\n",
        "    spectrogram = spectrogram.astype(np.float32)\n",
        "    return spectrogram\n",
        "\n",
        "#This implement the previous two function for one file\n",
        "def read_as_melspectrogram(conf, pathname, trim_long_data, debug_display=False):\n",
        "    x = read_audio(conf, pathname, trim_long_data)\n",
        "    mels = audio_to_melspectrogram(conf, x)\n",
        "    if debug_display:\n",
        "        IPython.display.display(IPython.display.Audio(x, rate=conf.sampling_rate))\n",
        "        show_melspectrogram(conf, mels)\n",
        "    return mels\n",
        "\n",
        "#This generalizes for all the audio files you have\n",
        "def convert_wav_to_image(df, source):\n",
        "    X = []\n",
        "    for i, row in tqdm_notebook(df.iterrows()):\n",
        "        try:\n",
        "            x = read_as_melspectrogram(conf, f'{source[0]}/{str(row.fname)}', trim_long_data=True)\n",
        "        except:\n",
        "            x = read_as_melspectrogram(conf, f'{source[1]}/{str(row.fname)}', trim_long_data=True)\n",
        "\n",
        "        X.append(x.transpose())\n",
        "    return X"
      ],
      "execution_count": 0,
      "outputs": []
    },
    {
      "cell_type": "code",
      "metadata": {
        "colab_type": "code",
        "id": "4vAdpu4BFXza",
        "outputId": "7da8f902-8335-4a9e-a9b2-339d4b91363d",
        "colab": {
          "referenced_widgets": [
            "b8f8bc2431744d809fed238c4f8ef542",
            "1284324d188448c8b7490ed172ec242a"
          ]
        }
      },
      "source": [
        "#We get all our spectrograms\n",
        "X = np.array(convert_wav_to_image(df, source=[train_path]))\n"
      ],
      "execution_count": 0,
      "outputs": [
        {
          "output_type": "stream",
          "text": [
            "/opt/conda/lib/python3.6/site-packages/ipykernel_launcher.py:45: TqdmDeprecationWarning: This function will be removed in tqdm==5.0.0\n",
            "Please use `tqdm.notebook.tqdm` instead of `tqdm.tqdm_notebook`\n"
          ],
          "name": "stderr"
        },
        {
          "output_type": "display_data",
          "data": {
            "application/vnd.jupyter.widget-view+json": {
              "model_id": "1284324d188448c8b7490ed172ec242a",
              "version_major": 2,
              "version_minor": 0
            },
            "text/plain": [
              "HBox(children=(FloatProgress(value=1.0, bar_style='info', max=1.0), HTML(value='')))"
            ]
          },
          "metadata": {
            "tags": []
          }
        },
        {
          "output_type": "stream",
          "text": [
            "\n"
          ],
          "name": "stdout"
        }
      ]
    },
    {
      "cell_type": "code",
      "metadata": {
        "colab_type": "code",
        "id": "KMPHUERZFXzg",
        "colab": {}
      },
      "source": [
        "def scaled_dot_product_attention(query, key, value, mask):\n",
        "  matmul_qk = tf.matmul(query, key, transpose_b=True)\n",
        "\n",
        "  depth = tf.cast(tf.shape(key)[-1], tf.float32)\n",
        "  logits = matmul_qk / tf.math.sqrt(depth)\n",
        "\n",
        "  # add the mask zero out padding tokens.\n",
        "  if mask is not None:\n",
        "    logits += (mask * -1e9)\n",
        "\n",
        "  attention_weights = tf.nn.softmax(logits, axis=-1)\n",
        "\n",
        "  return tf.matmul(attention_weights, value)"
      ],
      "execution_count": 0,
      "outputs": []
    },
    {
      "cell_type": "code",
      "metadata": {
        "colab_type": "code",
        "id": "-F4_iB_KFXzj",
        "colab": {}
      },
      "source": [
        "class MultiHeadAttention(tf.keras.layers.Layer):\n",
        "\n",
        "  def __init__(self, d_model, num_heads, name=\"multi_head_attention\"):\n",
        "    super(MultiHeadAttention, self).__init__(name=name)\n",
        "    self.num_heads = num_heads\n",
        "    self.d_model = d_model\n",
        "\n",
        "    assert d_model % self.num_heads == 0\n",
        "\n",
        "    self.depth = d_model // self.num_heads\n",
        "\n",
        "    self.query_dense = tf.keras.layers.Dense(units=d_model)\n",
        "    self.key_dense = tf.keras.layers.Dense(units=d_model)\n",
        "    self.value_dense = tf.keras.layers.Dense(units=d_model)\n",
        "\n",
        "    self.dense = tf.keras.layers.Dense(units=d_model)\n",
        "\n",
        "  def split_heads(self, inputs, batch_size):\n",
        "    inputs = tf.reshape(\n",
        "        inputs, shape=(batch_size, -1, self.num_heads, self.depth))\n",
        "    return tf.transpose(inputs, perm=[0, 2, 1, 3])\n",
        "\n",
        "  def call(self, inputs):\n",
        "    query, key, value, mask = inputs['query'], inputs['key'], inputs[\n",
        "        'value'], inputs['mask']\n",
        "    batch_size = tf.shape(query)[0]\n",
        "\n",
        "    # linear layers\n",
        "    query = self.query_dense(query)\n",
        "    key = self.key_dense(key)\n",
        "    value = self.value_dense(value)\n",
        "\n",
        "    # split heads\n",
        "    query = self.split_heads(query, batch_size)\n",
        "    key = self.split_heads(key, batch_size)\n",
        "    value = self.split_heads(value, batch_size)\n",
        "\n",
        "    scaled_attention = scaled_dot_product_attention(query, key, value, mask)\n",
        "\n",
        "    scaled_attention = tf.transpose(scaled_attention, perm=[0, 2, 1, 3])\n",
        "\n",
        "    concat_attention = tf.reshape(scaled_attention,\n",
        "                                  (batch_size, -1, self.d_model))\n",
        "\n",
        "    outputs = self.dense(concat_attention)\n",
        "\n",
        "    return outputs"
      ],
      "execution_count": 0,
      "outputs": []
    },
    {
      "cell_type": "code",
      "metadata": {
        "colab_type": "code",
        "id": "xsfTXzebFXzn",
        "colab": {}
      },
      "source": [
        "class PositionalEncoding(tf.keras.layers.Layer):\n",
        "\n",
        "  def __init__(self, position, d_model):\n",
        "    super(PositionalEncoding, self).__init__()\n",
        "    self.pos_encoding = self.positional_encoding(position, d_model)\n",
        "\n",
        "  def get_angles(self, position, i, d_model):\n",
        "    angles = 1 / tf.pow(10000, (2 * (i // 2)) / tf.cast(d_model, tf.float32))\n",
        "    return position * angles\n",
        "\n",
        "  def positional_encoding(self, position, d_model):\n",
        "    angle_rads = self.get_angles(\n",
        "        position=tf.range(position, dtype=tf.float32)[:, tf.newaxis],\n",
        "        i=tf.range(d_model, dtype=tf.float32)[tf.newaxis, :],\n",
        "        d_model=d_model)\n",
        "    # apply sin to even index in the array\n",
        "    sines = tf.math.sin(angle_rads[:, 0::2])\n",
        "    # apply cos to odd index in the array\n",
        "    cosines = tf.math.cos(angle_rads[:, 1::2])\n",
        "\n",
        "    pos_encoding = tf.concat([sines, cosines], axis=-1)\n",
        "    pos_encoding = pos_encoding[tf.newaxis, ...]\n",
        "    return tf.cast(pos_encoding, tf.float32)\n",
        "\n",
        "  def call(self, inputs):\n",
        "    return inputs + self.pos_encoding[:, :tf.shape(inputs)[1], :]"
      ],
      "execution_count": 0,
      "outputs": []
    },
    {
      "cell_type": "code",
      "metadata": {
        "colab_type": "code",
        "id": "4pq5OKITFXzz",
        "colab": {}
      },
      "source": [
        "# This allows to the transformer to know where there is real data and where it is padded\n",
        "def create_padding_mask(seq):\n",
        "  seq = tf.cast(tf.math.equal(seq, 0), tf.float32)\n",
        "  \n",
        "  # add extra dimensions to add the padding\n",
        "  # to the attention logits.\n",
        "  return seq[:, tf.newaxis, tf.newaxis, :]  # (batch_size, 1, 1, seq_len)"
      ],
      "execution_count": 0,
      "outputs": []
    },
    {
      "cell_type": "code",
      "metadata": {
        "colab_type": "code",
        "id": "U389WZgtFXzq",
        "colab": {}
      },
      "source": [
        "def encoder_layer(units, d_model, num_heads, dropout,name=\"encoder_layer\"):\n",
        "  inputs = tf.keras.Input(shape=(None,d_model ), name=\"inputs\")\n",
        "  padding_mask = tf.keras.Input(shape=(1, 1, None), name=\"padding_mask\")\n",
        "\n",
        "  attention = MultiHeadAttention(\n",
        "      d_model, num_heads, name=\"attention\")({\n",
        "          'query': inputs,\n",
        "          'key': inputs,\n",
        "          'value': inputs,\n",
        "          'mask': padding_mask\n",
        "      })\n",
        "  attention = tf.keras.layers.Dropout(rate=dropout)(attention)\n",
        "  attention = tf.keras.layers.LayerNormalization(\n",
        "      epsilon=1e-6)(inputs + attention)\n",
        "\n",
        "  outputs = tf.keras.layers.Dense(units=units, activation='relu')(attention)\n",
        "  outputs = tf.keras.layers.Dense(units=d_model)(outputs)\n",
        "  outputs = tf.keras.layers.Dropout(rate=dropout)(outputs)\n",
        "  outputs = tf.keras.layers.LayerNormalization(\n",
        "      epsilon=1e-6)(attention + outputs)\n",
        "\n",
        "  return tf.keras.Model(\n",
        "      inputs=[inputs, padding_mask], outputs=outputs, name=name)"
      ],
      "execution_count": 0,
      "outputs": []
    },
    {
      "cell_type": "code",
      "metadata": {
        "colab_type": "code",
        "id": "QPEbBpxqFXzt",
        "colab": {}
      },
      "source": [
        "def encoder(time_steps,\n",
        "            num_layers,\n",
        "            units,\n",
        "            d_model,\n",
        "            num_heads,\n",
        "            dropout,\n",
        "            projection,\n",
        "            name=\"encoder\"):\n",
        "  inputs = tf.keras.Input(shape=(None,d_model), name=\"inputs\")\n",
        "  padding_mask = tf.keras.Input(shape=(1, 1, None), name=\"padding_mask\")\n",
        "  \n",
        "  if projection=='linear':\n",
        "    ## We implement a linear projection based on Very Deep Self-Attention Networks for End-to-End Speech Recognition. Retrieved from https://arxiv.org/abs/1904.13377\n",
        "    projection=tf.keras.layers.Dense( d_model,use_bias=True, activation='linear')(inputs)\n",
        "  \n",
        "  else:\n",
        "    projection=tf.identity(inputs)\n",
        "   \n",
        "  projection *= tf.math.sqrt(tf.cast(d_model, tf.float32))\n",
        "  projection = PositionalEncoding(time_steps, d_model)(projection)\n",
        "\n",
        "  outputs = tf.keras.layers.Dropout(rate=dropout)(projection)\n",
        "\n",
        "  for i in range(num_layers):\n",
        "    outputs = encoder_layer(\n",
        "        units=units,\n",
        "        d_model=d_model,\n",
        "        num_heads=num_heads,\n",
        "        dropout=dropout,\n",
        "        name=\"encoder_layer_{}\".format(i),\n",
        "    )([outputs, padding_mask])\n",
        " \n",
        " \n",
        "  \n",
        "\n",
        " \n",
        "  return tf.keras.Model(\n",
        "      inputs=[inputs, padding_mask], outputs=outputs, name=name)"
      ],
      "execution_count": 0,
      "outputs": []
    },
    {
      "cell_type": "code",
      "metadata": {
        "colab_type": "code",
        "id": "n9uLLTcPFXzw",
        "colab": {}
      },
      "source": [
        "def transformer(time_steps,\n",
        "                num_layers,\n",
        "                units,\n",
        "                d_model,\n",
        "                num_heads,\n",
        "                dropout,\n",
        "                output_size,\n",
        "                projection,\n",
        "                name=\"transformer\"):\n",
        "  inputs = tf.keras.Input(shape=(None,d_model), name=\"inputs\")\n",
        "  \n",
        "  \n",
        "  enc_padding_mask = tf.keras.layers.Lambda(\n",
        "      create_padding_mask, output_shape=(1, 1, None),\n",
        "      name='enc_padding_mask')(tf.dtypes.cast(\n",
        "          \n",
        "    #Like our input has a dimension of length X d_model but the masking is applied to a vector\n",
        "    # We get the sum for each row and result is a vector. So, if result is 0 it is because in that position was masked      \n",
        "    tf.math.reduce_sum(\n",
        "    inputs,\n",
        "    axis=2,\n",
        "    keepdims=False,\n",
        "    name=None\n",
        "), tf.int32))\n",
        "  \n",
        "\n",
        "  enc_outputs = encoder(\n",
        "      time_steps=time_steps,\n",
        "      num_layers=num_layers,\n",
        "      units=units,\n",
        "      d_model=d_model,\n",
        "      num_heads=num_heads,\n",
        "      dropout=dropout,\n",
        "      projection=projection,\n",
        "      name='encoder'\n",
        "  )(inputs=[inputs, enc_padding_mask])\n",
        "\n",
        "  #We reshape for feeding our FC in the next step\n",
        "  outputs=tf.reshape(enc_outputs,(-1,time_steps*d_model))\n",
        "  \n",
        "  #We predict our class\n",
        "  outputs = tf.keras.layers.Dense(units=output_size,use_bias=True,activation='softmax', name=\"outputs\")(outputs)\n",
        "\n",
        "  return tf.keras.Model(inputs=[inputs], outputs=outputs, name='audio_class')"
      ],
      "execution_count": 0,
      "outputs": []
    },
    {
      "cell_type": "code",
      "metadata": {
        "colab_type": "code",
        "id": "OU4hWuxYFX0C",
        "colab": {}
      },
      "source": [
        "#We get our train and test set\n",
        "X_train,X_test, Y_train, Y_test =train_test_split(X,Y, test_size=0.2, random_state=27)\n",
        "\n"
      ],
      "execution_count": 0,
      "outputs": []
    },
    {
      "cell_type": "code",
      "metadata": {
        "colab_type": "code",
        "id": "oT948RgHgKMJ",
        "colab": {}
      },
      "source": [
        "projection=['linear','none']\n",
        "accuracy=[]\n",
        "proj_implemented=[]"
      ],
      "execution_count": 0,
      "outputs": []
    },
    {
      "cell_type": "code",
      "metadata": {
        "colab_type": "code",
        "id": "y2ifMZKEFX0J",
        "outputId": "6b38d307-bc5c-49ed-ad77-8df70d887c9b",
        "colab": {}
      },
      "source": [
        "for i in projection:\n",
        "  NUM_LAYERS = 2\n",
        "  D_MODEL = X.shape[2]\n",
        "  NUM_HEADS = 4\n",
        "  UNITS = 1024\n",
        "  DROPOUT = 0.1\n",
        "  TIME_STEPS= X.shape[1]\n",
        "  OUTPUT_SIZE=80\n",
        "  EPOCHS = 20\n",
        "  EXPERIMENTS=15\n",
        "\n",
        "  \n",
        "  for j in range(EXPERIMENTS):\n",
        "    \n",
        "    \n",
        "    model = transformer(time_steps=TIME_STEPS,\n",
        "      num_layers=NUM_LAYERS,\n",
        "      units=UNITS,\n",
        "      d_model=D_MODEL,\n",
        "      num_heads=NUM_HEADS,\n",
        "      dropout=DROPOUT,\n",
        "      output_size=OUTPUT_SIZE,  \n",
        "      projection=i  )\n",
        "    \n",
        "    model.compile(optimizer=tf.keras.optimizers.Adam(0.000001), loss='categorical_crossentropy', metrics=['accuracy'])\n",
        "\n",
        "\n",
        "    history=model.fit(X_train,Y_train, epochs=EPOCHS, validation_data=(X_test, Y_test))\n",
        "\n",
        "    accuracy.append(max(history.history['val_accuracy']))\n",
        "      \n",
        "    proj_implemented.append(i)\n",
        "    \n",
        "    del model\n",
        "    \n",
        "    del history\n",
        "      \n",
        "   \n"
      ],
      "execution_count": 0,
      "outputs": [
        {
          "output_type": "stream",
          "text": [
            "Train on 3976 samples, validate on 994 samples\n",
            "Epoch 1/20\n",
            "3976/3976 [==============================] - 14s 4ms/sample - loss: 3.9355 - accuracy: 0.0206 - val_loss: 3.8031 - val_accuracy: 0.0282\n",
            "Epoch 2/20\n",
            "3976/3976 [==============================] - 9s 2ms/sample - loss: 3.6636 - accuracy: 0.0259 - val_loss: 3.6690 - val_accuracy: 0.0463\n",
            "Epoch 3/20\n",
            "3976/3976 [==============================] - 9s 2ms/sample - loss: 3.5646 - accuracy: 0.0362 - val_loss: 3.5888 - val_accuracy: 0.0563\n",
            "Epoch 4/20\n",
            "3976/3976 [==============================] - 9s 2ms/sample - loss: 3.4760 - accuracy: 0.0465 - val_loss: 3.5176 - val_accuracy: 0.0684\n",
            "Epoch 5/20\n",
            "3976/3976 [==============================] - 9s 2ms/sample - loss: 3.4321 - accuracy: 0.0546 - val_loss: 3.4695 - val_accuracy: 0.0674\n",
            "Epoch 6/20\n",
            "3976/3976 [==============================] - 9s 2ms/sample - loss: 3.3816 - accuracy: 0.0614 - val_loss: 3.4151 - val_accuracy: 0.0835\n",
            "Epoch 7/20\n",
            "3976/3976 [==============================] - 10s 2ms/sample - loss: 3.3342 - accuracy: 0.0697 - val_loss: 3.3744 - val_accuracy: 0.0845\n",
            "Epoch 8/20\n",
            "3976/3976 [==============================] - 9s 2ms/sample - loss: 3.2930 - accuracy: 0.0755 - val_loss: 3.3373 - val_accuracy: 0.0835\n",
            "Epoch 9/20\n",
            "3976/3976 [==============================] - 9s 2ms/sample - loss: 3.2645 - accuracy: 0.0792 - val_loss: 3.3052 - val_accuracy: 0.0966\n",
            "Epoch 10/20\n",
            "3976/3976 [==============================] - 9s 2ms/sample - loss: 3.2383 - accuracy: 0.0840 - val_loss: 3.2888 - val_accuracy: 0.0956\n",
            "Epoch 11/20\n",
            "3976/3976 [==============================] - 9s 2ms/sample - loss: 3.2060 - accuracy: 0.0845 - val_loss: 3.2633 - val_accuracy: 0.1107\n",
            "Epoch 12/20\n",
            "3976/3976 [==============================] - 9s 2ms/sample - loss: 3.1998 - accuracy: 0.0797 - val_loss: 3.2387 - val_accuracy: 0.1046\n",
            "Epoch 13/20\n",
            "3976/3976 [==============================] - 10s 2ms/sample - loss: 3.1576 - accuracy: 0.0968 - val_loss: 3.2105 - val_accuracy: 0.1177\n",
            "Epoch 14/20\n",
            "3976/3976 [==============================] - 9s 2ms/sample - loss: 3.1409 - accuracy: 0.1014 - val_loss: 3.2037 - val_accuracy: 0.1117\n",
            "Epoch 15/20\n",
            "3976/3976 [==============================] - 9s 2ms/sample - loss: 3.1274 - accuracy: 0.1034 - val_loss: 3.1812 - val_accuracy: 0.1187\n",
            "Epoch 16/20\n",
            "3976/3976 [==============================] - 9s 2ms/sample - loss: 3.0975 - accuracy: 0.1142 - val_loss: 3.1627 - val_accuracy: 0.1247\n",
            "Epoch 17/20\n",
            "3976/3976 [==============================] - 9s 2ms/sample - loss: 3.0932 - accuracy: 0.1061 - val_loss: 3.1433 - val_accuracy: 0.1278\n",
            "Epoch 18/20\n",
            "3976/3976 [==============================] - 9s 2ms/sample - loss: 3.0620 - accuracy: 0.1192 - val_loss: 3.1497 - val_accuracy: 0.1268\n",
            "Epoch 19/20\n",
            "3976/3976 [==============================] - 10s 2ms/sample - loss: 3.0638 - accuracy: 0.1129 - val_loss: 3.1335 - val_accuracy: 0.1197\n",
            "Epoch 20/20\n",
            "3976/3976 [==============================] - 9s 2ms/sample - loss: 3.0458 - accuracy: 0.1164 - val_loss: 3.1132 - val_accuracy: 0.1348\n",
            "Train on 3976 samples, validate on 994 samples\n",
            "Epoch 1/20\n",
            "3976/3976 [==============================] - 12s 3ms/sample - loss: 3.9996 - accuracy: 0.0103 - val_loss: 3.8516 - val_accuracy: 0.0252\n",
            "Epoch 2/20\n",
            "3976/3976 [==============================] - 9s 2ms/sample - loss: 3.7236 - accuracy: 0.0176 - val_loss: 3.7625 - val_accuracy: 0.0342\n",
            "Epoch 3/20\n",
            "3976/3976 [==============================] - 9s 2ms/sample - loss: 3.6493 - accuracy: 0.0302 - val_loss: 3.7046 - val_accuracy: 0.0573\n",
            "Epoch 4/20\n",
            "3976/3976 [==============================] - 9s 2ms/sample - loss: 3.5904 - accuracy: 0.0342 - val_loss: 3.6500 - val_accuracy: 0.0543\n",
            "Epoch 5/20\n",
            "3976/3976 [==============================] - 10s 2ms/sample - loss: 3.5308 - accuracy: 0.0395 - val_loss: 3.6120 - val_accuracy: 0.0573\n",
            "Epoch 6/20\n",
            "3976/3976 [==============================] - 9s 2ms/sample - loss: 3.5000 - accuracy: 0.0425 - val_loss: 3.5709 - val_accuracy: 0.0654\n",
            "Epoch 7/20\n",
            "3976/3976 [==============================] - 9s 2ms/sample - loss: 3.4655 - accuracy: 0.0503 - val_loss: 3.5462 - val_accuracy: 0.0654\n",
            "Epoch 8/20\n",
            "3976/3976 [==============================] - 9s 2ms/sample - loss: 3.4358 - accuracy: 0.0493 - val_loss: 3.5188 - val_accuracy: 0.0634\n",
            "Epoch 9/20\n",
            "3976/3976 [==============================] - 9s 2ms/sample - loss: 3.4091 - accuracy: 0.0541 - val_loss: 3.5006 - val_accuracy: 0.0734\n",
            "Epoch 10/20\n",
            "3976/3976 [==============================] - 9s 2ms/sample - loss: 3.3826 - accuracy: 0.0646 - val_loss: 3.4845 - val_accuracy: 0.0724\n",
            "Epoch 11/20\n",
            "3976/3976 [==============================] - 9s 2ms/sample - loss: 3.3625 - accuracy: 0.0619 - val_loss: 3.4602 - val_accuracy: 0.0855\n",
            "Epoch 12/20\n",
            "3976/3976 [==============================] - 10s 2ms/sample - loss: 3.3418 - accuracy: 0.0702 - val_loss: 3.4541 - val_accuracy: 0.0775\n",
            "Epoch 13/20\n",
            "3976/3976 [==============================] - 9s 2ms/sample - loss: 3.3328 - accuracy: 0.0664 - val_loss: 3.4336 - val_accuracy: 0.0684\n",
            "Epoch 14/20\n",
            "3976/3976 [==============================] - 9s 2ms/sample - loss: 3.3195 - accuracy: 0.0755 - val_loss: 3.4175 - val_accuracy: 0.0775\n",
            "Epoch 15/20\n",
            "3976/3976 [==============================] - 9s 2ms/sample - loss: 3.2866 - accuracy: 0.0737 - val_loss: 3.4016 - val_accuracy: 0.0785\n",
            "Epoch 16/20\n",
            "3976/3976 [==============================] - 9s 2ms/sample - loss: 3.2752 - accuracy: 0.0755 - val_loss: 3.4014 - val_accuracy: 0.0795\n",
            "Epoch 17/20\n",
            "3976/3976 [==============================] - 9s 2ms/sample - loss: 3.2458 - accuracy: 0.0848 - val_loss: 3.4031 - val_accuracy: 0.0835\n",
            "Epoch 18/20\n",
            "3976/3976 [==============================] - 9s 2ms/sample - loss: 3.2365 - accuracy: 0.0827 - val_loss: 3.3941 - val_accuracy: 0.0825\n",
            "Epoch 19/20\n",
            "3976/3976 [==============================] - 10s 2ms/sample - loss: 3.2121 - accuracy: 0.0915 - val_loss: 3.3576 - val_accuracy: 0.0785\n",
            "Epoch 20/20\n",
            "3976/3976 [==============================] - 9s 2ms/sample - loss: 3.2037 - accuracy: 0.0953 - val_loss: 3.3458 - val_accuracy: 0.0905\n",
            "Train on 3976 samples, validate on 994 samples\n",
            "Epoch 1/20\n",
            "3976/3976 [==============================] - 12s 3ms/sample - loss: 3.9668 - accuracy: 0.0118 - val_loss: 3.8288 - val_accuracy: 0.0201\n",
            "Epoch 2/20\n",
            "3976/3976 [==============================] - 9s 2ms/sample - loss: 3.6798 - accuracy: 0.0216 - val_loss: 3.6926 - val_accuracy: 0.0382\n",
            "Epoch 3/20\n",
            "3976/3976 [==============================] - 9s 2ms/sample - loss: 3.6057 - accuracy: 0.0274 - val_loss: 3.6167 - val_accuracy: 0.0483\n",
            "Epoch 4/20\n",
            "3976/3976 [==============================] - 9s 2ms/sample - loss: 3.5227 - accuracy: 0.0395 - val_loss: 3.5631 - val_accuracy: 0.0805\n",
            "Epoch 5/20\n",
            "3976/3976 [==============================] - 9s 2ms/sample - loss: 3.4852 - accuracy: 0.0453 - val_loss: 3.5035 - val_accuracy: 0.0755\n",
            "Epoch 6/20\n",
            "3976/3976 [==============================] - 9s 2ms/sample - loss: 3.4340 - accuracy: 0.0548 - val_loss: 3.4589 - val_accuracy: 0.0926\n",
            "Epoch 7/20\n",
            "3976/3976 [==============================] - 9s 2ms/sample - loss: 3.4124 - accuracy: 0.0563 - val_loss: 3.4168 - val_accuracy: 0.0845\n",
            "Epoch 8/20\n",
            "3976/3976 [==============================] - 9s 2ms/sample - loss: 3.3712 - accuracy: 0.0654 - val_loss: 3.3857 - val_accuracy: 0.0966\n",
            "Epoch 9/20\n",
            "3976/3976 [==============================] - 9s 2ms/sample - loss: 3.3389 - accuracy: 0.0694 - val_loss: 3.3612 - val_accuracy: 0.0855\n",
            "Epoch 10/20\n",
            "3976/3976 [==============================] - 9s 2ms/sample - loss: 3.3083 - accuracy: 0.0707 - val_loss: 3.3433 - val_accuracy: 0.0946\n",
            "Epoch 11/20\n",
            "3976/3976 [==============================] - 10s 2ms/sample - loss: 3.2831 - accuracy: 0.0747 - val_loss: 3.3200 - val_accuracy: 0.1076\n",
            "Epoch 12/20\n",
            "3976/3976 [==============================] - 9s 2ms/sample - loss: 3.2602 - accuracy: 0.0815 - val_loss: 3.2844 - val_accuracy: 0.1046\n",
            "Epoch 13/20\n",
            "3976/3976 [==============================] - 9s 2ms/sample - loss: 3.2372 - accuracy: 0.0850 - val_loss: 3.2829 - val_accuracy: 0.0875\n",
            "Epoch 14/20\n",
            "3976/3976 [==============================] - 9s 2ms/sample - loss: 3.2126 - accuracy: 0.0918 - val_loss: 3.2632 - val_accuracy: 0.1026\n",
            "Epoch 15/20\n",
            "3976/3976 [==============================] - 9s 2ms/sample - loss: 3.1997 - accuracy: 0.0953 - val_loss: 3.2388 - val_accuracy: 0.1157\n",
            "Epoch 16/20\n",
            "3976/3976 [==============================] - 9s 2ms/sample - loss: 3.1783 - accuracy: 0.0908 - val_loss: 3.2242 - val_accuracy: 0.1036\n",
            "Epoch 17/20\n",
            "3976/3976 [==============================] - 10s 2ms/sample - loss: 3.1626 - accuracy: 0.0996 - val_loss: 3.2114 - val_accuracy: 0.1187\n",
            "Epoch 18/20\n",
            "3976/3976 [==============================] - 9s 2ms/sample - loss: 3.1583 - accuracy: 0.0921 - val_loss: 3.1892 - val_accuracy: 0.1237\n",
            "Epoch 19/20\n",
            "3976/3976 [==============================] - 9s 2ms/sample - loss: 3.1287 - accuracy: 0.1019 - val_loss: 3.1995 - val_accuracy: 0.1177\n",
            "Epoch 20/20\n",
            "3976/3976 [==============================] - 9s 2ms/sample - loss: 3.1181 - accuracy: 0.1069 - val_loss: 3.1846 - val_accuracy: 0.1227\n",
            "Train on 3976 samples, validate on 994 samples\n",
            "Epoch 1/20\n",
            "3976/3976 [==============================] - 13s 3ms/sample - loss: 3.9338 - accuracy: 0.0191 - val_loss: 3.7842 - val_accuracy: 0.0262\n",
            "Epoch 2/20\n",
            "3976/3976 [==============================] - 9s 2ms/sample - loss: 3.6496 - accuracy: 0.0272 - val_loss: 3.6659 - val_accuracy: 0.0352\n",
            "Epoch 3/20\n",
            "3976/3976 [==============================] - 10s 2ms/sample - loss: 3.5632 - accuracy: 0.0443 - val_loss: 3.5929 - val_accuracy: 0.0473\n",
            "Epoch 4/20\n",
            "3976/3976 [==============================] - 9s 2ms/sample - loss: 3.5046 - accuracy: 0.0445 - val_loss: 3.5488 - val_accuracy: 0.0654\n",
            "Epoch 5/20\n",
            "3976/3976 [==============================] - 9s 2ms/sample - loss: 3.4524 - accuracy: 0.0506 - val_loss: 3.4961 - val_accuracy: 0.0805\n",
            "Epoch 6/20\n",
            "3976/3976 [==============================] - 9s 2ms/sample - loss: 3.4110 - accuracy: 0.0601 - val_loss: 3.4624 - val_accuracy: 0.0875\n",
            "Epoch 7/20\n",
            "3976/3976 [==============================] - 9s 2ms/sample - loss: 3.4024 - accuracy: 0.0546 - val_loss: 3.4293 - val_accuracy: 0.0875\n",
            "Epoch 8/20\n",
            "3976/3976 [==============================] - 9s 2ms/sample - loss: 3.3368 - accuracy: 0.0659 - val_loss: 3.3931 - val_accuracy: 0.0926\n",
            "Epoch 9/20\n",
            "3976/3976 [==============================] - 9s 2ms/sample - loss: 3.3250 - accuracy: 0.0702 - val_loss: 3.3697 - val_accuracy: 0.1006\n",
            "Epoch 10/20\n",
            "3976/3976 [==============================] - 9s 2ms/sample - loss: 3.3075 - accuracy: 0.0719 - val_loss: 3.3458 - val_accuracy: 0.1046\n",
            "Epoch 11/20\n",
            "3976/3976 [==============================] - 9s 2ms/sample - loss: 3.2683 - accuracy: 0.0810 - val_loss: 3.3226 - val_accuracy: 0.1076\n",
            "Epoch 12/20\n",
            "3976/3976 [==============================] - 9s 2ms/sample - loss: 3.2435 - accuracy: 0.0883 - val_loss: 3.3073 - val_accuracy: 0.1117\n",
            "Epoch 13/20\n",
            "3976/3976 [==============================] - 9s 2ms/sample - loss: 3.2214 - accuracy: 0.0900 - val_loss: 3.2939 - val_accuracy: 0.1117\n",
            "Epoch 14/20\n",
            "3976/3976 [==============================] - 9s 2ms/sample - loss: 3.2130 - accuracy: 0.0865 - val_loss: 3.2792 - val_accuracy: 0.1177\n",
            "Epoch 15/20\n",
            "3976/3976 [==============================] - 9s 2ms/sample - loss: 3.1797 - accuracy: 0.1021 - val_loss: 3.2654 - val_accuracy: 0.1137\n",
            "Epoch 16/20\n",
            "3976/3976 [==============================] - 9s 2ms/sample - loss: 3.1788 - accuracy: 0.0938 - val_loss: 3.2482 - val_accuracy: 0.1298\n",
            "Epoch 17/20\n",
            "3976/3976 [==============================] - 9s 2ms/sample - loss: 3.1757 - accuracy: 0.0991 - val_loss: 3.2352 - val_accuracy: 0.1328\n",
            "Epoch 18/20\n",
            "3976/3976 [==============================] - 9s 2ms/sample - loss: 3.1670 - accuracy: 0.0913 - val_loss: 3.2192 - val_accuracy: 0.1247\n",
            "Epoch 19/20\n",
            "3976/3976 [==============================] - 9s 2ms/sample - loss: 3.1324 - accuracy: 0.1029 - val_loss: 3.2101 - val_accuracy: 0.1278\n",
            "Epoch 20/20\n",
            "3976/3976 [==============================] - 9s 2ms/sample - loss: 3.1152 - accuracy: 0.1036 - val_loss: 3.2075 - val_accuracy: 0.1217\n",
            "Train on 3976 samples, validate on 994 samples\n",
            "Epoch 1/20\n",
            "3976/3976 [==============================] - 12s 3ms/sample - loss: 3.9187 - accuracy: 0.0161 - val_loss: 3.7324 - val_accuracy: 0.0201\n",
            "Epoch 2/20\n",
            "3976/3976 [==============================] - 9s 2ms/sample - loss: 3.6611 - accuracy: 0.0226 - val_loss: 3.6325 - val_accuracy: 0.0443\n",
            "Epoch 3/20\n",
            "3976/3976 [==============================] - 9s 2ms/sample - loss: 3.5685 - accuracy: 0.0319 - val_loss: 3.5615 - val_accuracy: 0.0513\n",
            "Epoch 4/20\n",
            "3976/3976 [==============================] - 9s 2ms/sample - loss: 3.5262 - accuracy: 0.0347 - val_loss: 3.5034 - val_accuracy: 0.0654\n",
            "Epoch 5/20\n",
            "3976/3976 [==============================] - 9s 2ms/sample - loss: 3.4870 - accuracy: 0.0485 - val_loss: 3.4642 - val_accuracy: 0.0865\n",
            "Epoch 6/20\n",
            "3976/3976 [==============================] - 9s 2ms/sample - loss: 3.4519 - accuracy: 0.0460 - val_loss: 3.4206 - val_accuracy: 0.0865\n",
            "Epoch 7/20\n",
            "3976/3976 [==============================] - 9s 2ms/sample - loss: 3.4022 - accuracy: 0.0558 - val_loss: 3.3866 - val_accuracy: 0.0956\n",
            "Epoch 8/20\n",
            "3976/3976 [==============================] - 13s 3ms/sample - loss: 4.0010 - accuracy: 0.0166 - val_loss: 3.8597 - val_accuracy: 0.0191\n",
            "Epoch 2/20\n",
            "3976/3976 [==============================] - 9s 2ms/sample - loss: 3.7122 - accuracy: 0.0224 - val_loss: 3.7104 - val_accuracy: 0.0372\n",
            "Epoch 3/20\n",
            "3976/3976 [==============================] - 9s 2ms/sample - loss: 3.6055 - accuracy: 0.0337 - val_loss: 3.5999 - val_accuracy: 0.0513\n",
            "Epoch 4/20\n",
            "3976/3976 [==============================] - 9s 2ms/sample - loss: 3.2130 - accuracy: 0.0893 - val_loss: 3.2560 - val_accuracy: 0.1217\n",
            "Epoch 14/20\n",
            "3976/3976 [==============================] - 9s 2ms/sample - loss: 3.1959 - accuracy: 0.0928 - val_loss: 3.2616 - val_accuracy: 0.1177\n",
            "Epoch 15/20\n",
            "3976/3976 [==============================] - 9s 2ms/sample - loss: 3.1726 - accuracy: 0.0910 - val_loss: 3.2471 - val_accuracy: 0.1167\n",
            "Epoch 16/20\n",
            "3976/3976 [==============================] - 9s 2ms/sample - loss: 3.1572 - accuracy: 0.1021 - val_loss: 3.2240 - val_accuracy: 0.1258\n",
            "Epoch 17/20\n",
            "3976/3976 [==============================] - 9s 2ms/sample - loss: 3.4896 - accuracy: 0.0498 - val_loss: 3.5259 - val_accuracy: 0.0664\n",
            "Epoch 6/20\n",
            "3976/3976 [==============================] - 9s 2ms/sample - loss: 3.4195 - accuracy: 0.0556 - val_loss: 3.4898 - val_accuracy: 0.0734\n",
            "Epoch 7/20\n",
            "3976/3976 [==============================] - 9s 2ms/sample - loss: 3.3798 - accuracy: 0.0614 - val_loss: 3.4440 - val_accuracy: 0.0714\n",
            "Epoch 8/20\n",
            "3976/3976 [==============================] - 9s 2ms/sample - loss: 3.3575 - accuracy: 0.0674 - val_loss: 3.4295 - val_accuracy: 0.0755\n",
            "Epoch 9/20\n",
            "3976/3976 [==============================] - 9s 2ms/sample - loss: 3.3210 - accuracy: 0.0777 - val_loss: 3.3978 - val_accuracy: 0.0875\n",
            "Epoch 10/20\n",
            "3976/3976 [==============================] - 9s 2ms/sample - loss: 3.2724 - accuracy: 0.0682 - val_loss: 3.3848 - val_accuracy: 0.0865\n",
            "Epoch 11/20\n",
            "3976/3976 [==============================] - 9s 2ms/sample - loss: 3.2442 - accuracy: 0.0835 - val_loss: 3.3548 - val_accuracy: 0.0956\n",
            "Epoch 12/20\n",
            "3976/3976 [==============================] - 9s 2ms/sample - loss: 3.2213 - accuracy: 0.0926 - val_loss: 3.3514 - val_accuracy: 0.0946\n",
            "Epoch 13/20\n",
            "3976/3976 [==============================] - 9s 2ms/sample - loss: 3.2130 - accuracy: 0.0860 - val_loss: 3.3270 - val_accuracy: 0.0966\n",
            "Epoch 14/20\n",
            "3976/3976 [==============================] - 9s 2ms/sample - loss: 3.1871 - accuracy: 0.0988 - val_loss: 3.3052 - val_accuracy: 0.1046\n",
            "Epoch 15/20\n",
            "3976/3976 [==============================] - 10s 2ms/sample - loss: 3.1629 - accuracy: 0.0986 - val_loss: 3.3039 - val_accuracy: 0.1066\n",
            "Epoch 16/20\n",
            "3976/3976 [==============================] - 9s 2ms/sample - loss: 3.1508 - accuracy: 0.0996 - val_loss: 3.2874 - val_accuracy: 0.1137\n",
            "Epoch 17/20\n",
            "3976/3976 [==============================] - 9s 2ms/sample - loss: 3.1315 - accuracy: 0.1001 - val_loss: 3.2891 - val_accuracy: 0.1117\n",
            "Epoch 18/20\n",
            "3976/3976 [==============================] - 9s 2ms/sample - loss: 3.1314 - accuracy: 0.0951 - val_loss: 3.2759 - val_accuracy: 0.1137\n",
            "Epoch 19/20\n",
            "3976/3976 [==============================] - 9s 2ms/sample - loss: 3.1030 - accuracy: 0.1097 - val_loss: 3.2563 - val_accuracy: 0.1097\n",
            "Epoch 20/20\n",
            "3976/3976 [==============================] - 9s 2ms/sample - loss: 3.0874 - accuracy: 0.1107 - val_loss: 3.2573 - val_accuracy: 0.1147\n",
            "Train on 3976 samples, validate on 994 samples\n",
            "Epoch 1/20\n",
            "3976/3976 [==============================] - 9s 2ms/sample - loss: 3.4075 - accuracy: 0.0639 - val_loss: 3.4078 - val_accuracy: 0.0885\n",
            "Epoch 11/20\n",
            "3976/3976 [==============================] - 9s 2ms/sample - loss: 3.3744 - accuracy: 0.0614 - val_loss: 3.3806 - val_accuracy: 0.0976\n",
            "Epoch 12/20\n",
            "3976/3976 [==============================] - 9s 2ms/sample - loss: 3.3618 - accuracy: 0.0699 - val_loss: 3.3664 - val_accuracy: 0.1056\n",
            "Epoch 13/20\n",
            "3976/3976 [==============================] - 9s 2ms/sample - loss: 3.3602 - accuracy: 0.0729 - val_loss: 3.3530 - val_accuracy: 0.1066\n",
            "Epoch 14/20\n",
            "3976/3976 [==============================] - 9s 2ms/sample - loss: 3.5780 - accuracy: 0.0397 - val_loss: 3.6267 - val_accuracy: 0.0734\n",
            "Epoch 4/20\n",
            "3976/3976 [==============================] - 9s 2ms/sample - loss: 3.4950 - accuracy: 0.0548 - val_loss: 3.5418 - val_accuracy: 0.0905\n",
            "Epoch 5/20\n",
            "3976/3976 [==============================] - 9s 2ms/sample - loss: 3.4139 - accuracy: 0.0654 - val_loss: 3.4802 - val_accuracy: 0.0956\n",
            "Epoch 6/20\n",
            "3976/3976 [==============================] - 9s 2ms/sample - loss: 3.3915 - accuracy: 0.0636 - val_loss: 3.4218 - val_accuracy: 0.0996\n",
            "Epoch 7/20\n",
            "3976/3976 [==============================] - 9s 2ms/sample - loss: 3.0983 - accuracy: 0.1107 - val_loss: 3.3717 - val_accuracy: 0.1298\n",
            "Epoch 18/20\n",
            "3976/3976 [==============================] - 9s 2ms/sample - loss: 3.0852 - accuracy: 0.1124 - val_loss: 3.3513 - val_accuracy: 0.1328\n",
            "Epoch 19/20\n",
            "3976/3976 [==============================] - 9s 2ms/sample - loss: 3.0531 - accuracy: 0.1154 - val_loss: 3.3588 - val_accuracy: 0.1217\n",
            "Epoch 20/20\n",
            "3976/3976 [==============================] - 9s 2ms/sample - loss: 3.0557 - accuracy: 0.1104 - val_loss: 3.3476 - val_accuracy: 0.1328\n",
            "Train on 3976 samples, validate on 994 samples\n",
            "Epoch 1/20\n",
            "3976/3976 [==============================] - 12s 3ms/sample - loss: 3.9832 - accuracy: 0.0153 - val_loss: 3.7942 - val_accuracy: 0.0332\n",
            "Epoch 2/20\n",
            "3976/3976 [==============================] - 9s 2ms/sample - loss: 3.6954 - accuracy: 0.0201 - val_loss: 3.6772 - val_accuracy: 0.0553\n",
            "Epoch 3/20\n",
            "3976/3976 [==============================] - 9s 2ms/sample - loss: 3.6225 - accuracy: 0.0297 - val_loss: 3.5945 - val_accuracy: 0.0533\n",
            "Epoch 4/20\n",
            "3976/3976 [==============================] - 9s 2ms/sample - loss: 3.5348 - accuracy: 0.0402 - val_loss: 3.5230 - val_accuracy: 0.0654\n",
            "Epoch 5/20\n",
            "3976/3976 [==============================] - 9s 2ms/sample - loss: 3.4949 - accuracy: 0.0455 - val_loss: 3.4708 - val_accuracy: 0.0835\n",
            "Epoch 6/20\n",
            "3976/3976 [==============================] - 9s 2ms/sample - loss: 3.4637 - accuracy: 0.0435 - val_loss: 3.4239 - val_accuracy: 0.0905\n",
            "Epoch 7/20\n",
            "3976/3976 [==============================] - 9s 2ms/sample - loss: 3.4012 - accuracy: 0.0556 - val_loss: 3.3955 - val_accuracy: 0.0795\n",
            "Epoch 8/20\n",
            "3976/3976 [==============================] - 9s 2ms/sample - loss: 3.3900 - accuracy: 0.0581 - val_loss: 3.3511 - val_accuracy: 0.0926\n",
            "Epoch 9/20\n",
            "3976/3976 [==============================] - 9s 2ms/sample - loss: 3.3462 - accuracy: 0.0604 - val_loss: 3.3271 - val_accuracy: 0.0946\n",
            "Epoch 10/20\n",
            "3976/3976 [==============================] - 9s 2ms/sample - loss: 3.3033 - accuracy: 0.0689 - val_loss: 3.2969 - val_accuracy: 0.0956\n",
            "Epoch 11/20\n",
            "3976/3976 [==============================] - 9s 2ms/sample - loss: 3.2877 - accuracy: 0.0712 - val_loss: 3.2682 - val_accuracy: 0.1026\n",
            "Epoch 12/20\n",
            "3976/3976 [==============================] - 9s 2ms/sample - loss: 3.2579 - accuracy: 0.0795 - val_loss: 3.2581 - val_accuracy: 0.0996\n",
            "Epoch 13/20\n",
            "1184/3976 [=======>......................] - ETA: 5s - loss: 3.3428 - accuracy: 0.0650"
          ],
          "name": "stdout"
        }
      ]
    },
    {
      "cell_type": "code",
      "metadata": {
        "colab_type": "code",
        "id": "chxvhHsAFX02",
        "colab": {}
      },
      "source": [
        "accuracy=pd.DataFrame(accuracy, columns=['accuracy'])\n",
        "proj_implemented=pd.DataFrame(proj_implemented, columns=['projection'])\n",
        "results=pd.concat([accuracy,proj_implemented],axis=1)\n"
      ],
      "execution_count": 0,
      "outputs": []
    },
    {
      "cell_type": "code",
      "metadata": {
        "colab_type": "code",
        "id": "4LJeC1iwccFA",
        "outputId": "852f7d87-f103-4fbe-ce3f-e87e143c38f0",
        "colab": {}
      },
      "source": [
        "results.groupby('projection').mean()\n"
      ],
      "execution_count": 0,
      "outputs": [
        {
          "output_type": "execute_result",
          "data": {
            "text/html": [
              "<div>\n",
              "<style scoped>\n",
              "    .dataframe tbody tr th:only-of-type {\n",
              "        vertical-align: middle;\n",
              "    }\n",
              "\n",
              "    .dataframe tbody tr th {\n",
              "        vertical-align: top;\n",
              "    }\n",
              "\n",
              "    .dataframe thead th {\n",
              "        text-align: right;\n",
              "    }\n",
              "</style>\n",
              "<table border=\"1\" class=\"dataframe\">\n",
              "  <thead>\n",
              "    <tr style=\"text-align: right;\">\n",
              "      <th></th>\n",
              "      <th>accuracy</th>\n",
              "    </tr>\n",
              "    <tr>\n",
              "      <th>projection</th>\n",
              "      <th></th>\n",
              "    </tr>\n",
              "  </thead>\n",
              "  <tbody>\n",
              "    <tr>\n",
              "      <th>linear</th>\n",
              "      <td>0.128437</td>\n",
              "    </tr>\n",
              "    <tr>\n",
              "      <th>none</th>\n",
              "      <td>0.126425</td>\n",
              "    </tr>\n",
              "  </tbody>\n",
              "</table>\n",
              "</div>"
            ],
            "text/plain": [
              "            accuracy\n",
              "projection          \n",
              "linear      0.128437\n",
              "none        0.126425"
            ]
          },
          "metadata": {
            "tags": []
          },
          "execution_count": 24
        }
      ]
    },
    {
      "cell_type": "code",
      "metadata": {
        "colab_type": "code",
        "id": "bA0Y-5O0dUtz",
        "outputId": "ed61618f-33e7-48fc-d84d-be914ab9e6e5",
        "colab": {}
      },
      "source": [
        "results.groupby('projection').std()"
      ],
      "execution_count": 0,
      "outputs": [
        {
          "output_type": "execute_result",
          "data": {
            "text/html": [
              "<div>\n",
              "<style scoped>\n",
              "    .dataframe tbody tr th:only-of-type {\n",
              "        vertical-align: middle;\n",
              "    }\n",
              "\n",
              "    .dataframe tbody tr th {\n",
              "        vertical-align: top;\n",
              "    }\n",
              "\n",
              "    .dataframe thead th {\n",
              "        text-align: right;\n",
              "    }\n",
              "</style>\n",
              "<table border=\"1\" class=\"dataframe\">\n",
              "  <thead>\n",
              "    <tr style=\"text-align: right;\">\n",
              "      <th></th>\n",
              "      <th>accuracy</th>\n",
              "    </tr>\n",
              "    <tr>\n",
              "      <th>projection</th>\n",
              "      <th></th>\n",
              "    </tr>\n",
              "  </thead>\n",
              "  <tbody>\n",
              "    <tr>\n",
              "      <th>linear</th>\n",
              "      <td>0.016406</td>\n",
              "    </tr>\n",
              "    <tr>\n",
              "      <th>none</th>\n",
              "      <td>0.017971</td>\n",
              "    </tr>\n",
              "  </tbody>\n",
              "</table>\n",
              "</div>"
            ],
            "text/plain": [
              "            accuracy\n",
              "projection          \n",
              "linear      0.016406\n",
              "none        0.017971"
            ]
          },
          "metadata": {
            "tags": []
          },
          "execution_count": 25
        }
      ]
    },
    {
      "cell_type": "code",
      "metadata": {
        "id": "OIAD0K--41uw",
        "colab_type": "code",
        "colab": {}
      },
      "source": [
        ""
      ],
      "execution_count": 0,
      "outputs": []
    }
  ]
}
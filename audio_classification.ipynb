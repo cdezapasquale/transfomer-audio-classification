{
  "nbformat": 4,
  "nbformat_minor": 0,
  "metadata": {
    "kernelspec": {
      "display_name": "Python 3",
      "language": "python",
      "name": "python3"
    },
    "language_info": {
      "codemirror_mode": {
        "name": "ipython",
        "version": 3
      },
      "file_extension": ".py",
      "mimetype": "text/x-python",
      "name": "python",
      "nbconvert_exporter": "python",
      "pygments_lexer": "ipython3",
      "version": "3.7.3"
    },
    "colab": {
      "name": "audio classification.ipynb",
      "provenance": [],
      "include_colab_link": true
    }
  },
  "cells": [
    {
      "cell_type": "markdown",
      "metadata": {
        "id": "view-in-github",
        "colab_type": "text"
      },
      "source": [
        "<a href=\"https://colab.research.google.com/github/facundodeza/transfomer-audio-classification/blob/master/audio_classification.ipynb\" target=\"_parent\"><img src=\"https://colab.research.google.com/assets/colab-badge.svg\" alt=\"Open In Colab\"/></a>"
      ]
    },
    {
      "cell_type": "code",
      "metadata": {
        "id": "iPueJ5fgFXyO",
        "colab_type": "code",
        "trusted": true,
        "colab": {}
      },
      "source": [
        "# We load the requiere libraries\n",
        "import numpy as np\n",
        "import pandas as pd \n",
        "import os\n",
        "import librosa\n",
        "import matplotlib.pyplot as plt\n",
        "import gc\n",
        "\n",
        "from tqdm import tqdm, tqdm_notebook\n",
        "from sklearn.metrics import label_ranking_average_precision_score\n",
        "from sklearn.model_selection import train_test_split\n",
        "from sklearn.preprocessing import MultiLabelBinarizer\n",
        "from sklearn.model_selection import train_test_split\n",
        "\n",
        "import zipfile\n",
        "\n",
        "\n",
        "tqdm.pandas()"
      ],
      "execution_count": 0,
      "outputs": []
    },
    {
      "cell_type": "code",
      "metadata": {
        "id": "xUqQSW-NGIXF",
        "colab_type": "code",
        "trusted": true,
        "colab": {}
      },
      "source": [
        "from __future__ import absolute_import, division, print_function, unicode_literals\n",
        "\n",
        "\n",
        "import tensorflow as tf"
      ],
      "execution_count": 0,
      "outputs": []
    },
    {
      "cell_type": "code",
      "metadata": {
        "id": "ebyq6pJaFXyT",
        "colab_type": "code",
        "trusted": true,
        "colab": {}
      },
      "source": [
        "#We load csv with files name. We will use for reading the data\n",
        "df = pd.read_csv('../input/freesound-audio-tagging-2019/train_curated.csv')\n",
        "#df_noisy = pd.read_csv('../input/freesound-audio-tagging-2019/train_noisy.csv')\n",
        "\n",
        "#train=pd.concat([df, df_noisy], axis=0)\n",
        "\n",
        "test_df = pd.read_csv('../input/freesound-audio-tagging-2019/sample_submission.csv')\n"
      ],
      "execution_count": 0,
      "outputs": []
    },
    {
      "cell_type": "code",
      "metadata": {
        "id": "fu1s4aUVFXyX",
        "colab_type": "code",
        "trusted": true,
        "colab": {}
      },
      "source": [
        "# We get the labels from the test data, we start from 1 because 0 is the file name\n",
        "# Also, test set only has 80 classes and want to predict according to that.\n",
        "# Of course, you could create \n",
        "# From here we will create Y target\n",
        "\n",
        "label_columns = test_df.columns[1:]\n",
        "labels = dict((label, index) for index, label in enumerate(label_columns))\n",
        "\n",
        "\n",
        "\n",
        "\n",
        "\n",
        "\n"
      ],
      "execution_count": 0,
      "outputs": []
    },
    {
      "cell_type": "code",
      "metadata": {
        "id": "uTmsBU7CKu7p",
        "colab_type": "code",
        "trusted": true,
        "colab": {},
        "outputId": "5fa3218b-0afa-4a3b-cec6-53ee9f571e35"
      },
      "source": [
        "## We can see that several targets are in same space. We need to reshape it into a hot encode format\n",
        "print(df['labels'][:10])"
      ],
      "execution_count": 0,
      "outputs": [
        {
          "output_type": "stream",
          "text": [
            "0                     Bark\n",
            "1                 Raindrop\n",
            "2          Finger_snapping\n",
            "3                      Run\n",
            "4          Finger_snapping\n",
            "5               Whispering\n",
            "6    Acoustic_guitar,Strum\n",
            "7                   Hi-hat\n",
            "8                Bass_drum\n",
            "9           Crowd,Cheering\n",
            "Name: labels, dtype: object\n"
          ],
          "name": "stdout"
        }
      ]
    },
    {
      "cell_type": "code",
      "metadata": {
        "id": "H5K-aYlWFXyr",
        "colab_type": "code",
        "outputId": "cbf7ff3d-c19c-4d5d-a57b-76fc61eacff5",
        "trusted": true,
        "colab": {}
      },
      "source": [
        "#We split the labels\n",
        "y_helper=df['labels'].str.split()\n",
        "\n",
        "#We say it our labels\n",
        "mlb=MultiLabelBinarizer(classes=list(labels.keys()))\n",
        "\n",
        "#We create our hot encoder target\n",
        "Y=mlb.fit_transform(y_helper)\n",
        "\n"
      ],
      "execution_count": 0,
      "outputs": [
        {
          "output_type": "stream",
          "text": [
            "/opt/conda/lib/python3.6/site-packages/sklearn/preprocessing/label.py:951: UserWarning: unknown class(es) ['Acoustic_guitar,Strum', 'Applause,Cheering', 'Applause,Cheering,Clapping', 'Applause,Clapping', 'Applause,Crowd', 'Applause,Crowd,Cheering', 'Applause,Crowd,Clapping', 'Applause,Dishes_and_pots_and_pans,Crowd,Cheering,Clapping,Child_speech_and_kid_speaking', 'Applause,Harmonica', 'Applause,Harmonica,Cheering', 'Applause,Screaming,Crowd', 'Bark,Chirp_and_tweet', 'Bark,Cricket', 'Bark,Cricket,Buzz', 'Bark,Walk_and_footsteps', 'Bathtub_(filling_or_washing),Child_speech_and_kid_speaking', 'Bathtub_(filling_or_washing),Gurgling', 'Bathtub_(filling_or_washing),Sink_(filling_or_washing)', 'Bathtub_(filling_or_washing),Sink_(filling_or_washing),Water_tap_and_faucet', 'Bathtub_(filling_or_washing),Water_tap_and_faucet', 'Burping_and_eructation,Chewing_and_mastication', 'Car_passing_by,Accelerating_and_revving_and_vroom', 'Car_passing_by,Race_car_and_auto_racing', 'Car_passing_by,Traffic_noise_and_roadway_noise', 'Cheering,Clapping', 'Cheering,Yell', 'Chirp_and_tweet,Buzz', 'Chirp_and_tweet,Cricket', 'Chirp_and_tweet,Slam', 'Church_bell,Traffic_noise_and_roadway_noise', 'Clapping,Chirp_and_tweet', 'Cricket,Buzz', 'Cricket,Waves_and_surf', 'Crowd,Bus', 'Crowd,Cheering', 'Crowd,Cheering,Yell', 'Crowd,Clapping', 'Crowd,Gasp', 'Crowd,Race_car_and_auto_racing,Accelerating_and_revving_and_vroom', 'Crowd,Yell', 'Cupboard_open_or_close,Drawer_open_or_close', 'Cutlery_and_silverware,Chink_and_clink', 'Cutlery_and_silverware,Dishes_and_pots_and_pans', 'Cutlery_and_silverware,Dishes_and_pots_and_pans,Chink_and_clink', 'Cutlery_and_silverware,Drawer_open_or_close', 'Cutlery_and_silverware,Sink_(filling_or_washing)', 'Cutlery_and_silverware,Tap', 'Dishes_and_pots_and_pans,Chink_and_clink', 'Dishes_and_pots_and_pans,Cupboard_open_or_close', 'Dishes_and_pots_and_pans,Hiss', 'Dishes_and_pots_and_pans,Sink_(filling_or_washing)', 'Drip,Bathtub_(filling_or_washing)', 'Drip,Gurgling', 'Drip,Sink_(filling_or_washing)', 'Drip,Sink_(filling_or_washing),Water_tap_and_faucet', 'Drip,Trickle_and_dribble', 'Drip,Water_tap_and_faucet', 'Electric_guitar,Acoustic_guitar', 'Electric_guitar,Bass_drum', 'Electric_guitar,Bass_guitar', 'Electric_guitar,Bass_guitar,Hi-hat,Bass_drum', 'Electric_guitar,Squeak', 'Electric_guitar,Strum', 'Fart,Drawer_open_or_close', 'Female_singing,Male_singing', 'Female_speech_and_woman_speaking,Walk_and_footsteps', 'Female_speech_and_woman_speaking,Whispering', 'Female_speech_and_woman_speaking,Yell', 'Fill_(with_liquid),Bathtub_(filling_or_washing)', 'Fill_(with_liquid),Bathtub_(filling_or_washing),Water_tap_and_faucet', 'Fill_(with_liquid),Sink_(filling_or_washing)', 'Fill_(with_liquid),Sink_(filling_or_washing),Water_tap_and_faucet,Gurgling', 'Fill_(with_liquid),Toilet_flush', 'Fill_(with_liquid),Water_tap_and_faucet', 'Frying_(food),Crackle', 'Frying_(food),Dishes_and_pots_and_pans', 'Gurgling,Chink_and_clink', 'Hi-hat,Bass_drum', 'Hiss,Bus', 'Knock,Dishes_and_pots_and_pans', 'Knock,Run', 'Knock,Slam', 'Male_speech_and_man_speaking,Female_speech_and_woman_speaking', 'Male_speech_and_man_speaking,Male_singing', 'Male_speech_and_man_speaking,Walk_and_footsteps', 'Male_speech_and_man_speaking,Whispering', 'Male_speech_and_man_speaking,Yell', 'Meow,Bathtub_(filling_or_washing)', 'Meow,Clapping', 'Meow,Hiss', 'Meow,Purr', 'Motorcycle,Accelerating_and_revving_and_vroom', 'Motorcycle,Traffic_noise_and_roadway_noise', 'Race_car_and_auto_racing,Accelerating_and_revving_and_vroom', 'Raindrop,Bathtub_(filling_or_washing)', 'Raindrop,Drip', 'Raindrop,Drip,Trickle_and_dribble', 'Raindrop,Drip,Water_tap_and_faucet', 'Run,Slam', 'Screaming,Child_speech_and_kid_speaking', 'Screaming,Crowd', 'Screaming,Crowd,Cheering', 'Screaming,Yell', 'Shatter,Chink_and_clink', 'Sink_(filling_or_washing),Gurgling', 'Sink_(filling_or_washing),Water_tap_and_faucet', 'Slam,Bus', 'Slam,Microwave_oven', 'Sneeze,Church_bell', 'Squeak,Accelerating_and_revving_and_vroom', 'Squeak,Chirp_and_tweet', 'Squeak,Clapping', 'Squeak,Cupboard_open_or_close', 'Squeak,Dishes_and_pots_and_pans', 'Squeak,Dishes_and_pots_and_pans,Trickle_and_dribble', 'Squeak,Slam', 'Squeak,Walk_and_footsteps', 'Squeak,Writing', 'Stream,Chirp_and_tweet', 'Stream,Trickle_and_dribble', 'Tap,Acoustic_guitar', 'Tap,Bass_drum', 'Tap,Clapping', 'Tap,Dishes_and_pots_and_pans', 'Tap,Dishes_and_pots_and_pans,Chink_and_clink', 'Toilet_flush,Gurgling', 'Toilet_flush,Water_tap_and_faucet', 'Traffic_noise_and_roadway_noise,Bus', 'Trickle_and_dribble,Bathtub_(filling_or_washing),Gurgling', 'Trickle_and_dribble,Bathtub_(filling_or_washing),Sink_(filling_or_washing),Gurgling', 'Trickle_and_dribble,Sink_(filling_or_washing)', 'Trickle_and_dribble,Water_tap_and_faucet', 'Walk_and_footsteps,Chirp_and_tweet', 'Walk_and_footsteps,Run', 'Walk_and_footsteps,Slam', 'Walk_and_footsteps,Stream', 'Walk_and_footsteps,Traffic_noise_and_roadway_noise', 'Walk_and_footsteps,Waves_and_surf', 'Whispering,Acoustic_guitar'] will be ignored\n",
            "  .format(sorted(unknown, key=str)))\n"
          ],
          "name": "stderr"
        }
      ]
    },
    {
      "cell_type": "code",
      "metadata": {
        "id": "wigpoc-oFXyf",
        "colab_type": "code",
        "trusted": true,
        "colab": {}
      },
      "source": [
        "# unzipping our files\n",
        "\n",
        "\n",
        "with zipfile.ZipFile('../input/freesound-audio-tagging-2019/train_curated.zip', 'r') as zip_ref:\n",
        "    zip_ref.extractall('../output/kaggle/working/train')"
      ],
      "execution_count": 0,
      "outputs": []
    },
    {
      "cell_type": "code",
      "metadata": {
        "id": "vJ0DebAQFXyo",
        "colab_type": "code",
        "trusted": true,
        "colab": {}
      },
      "source": [
        "#import zipfile\n",
        "#with zipfile.ZipFile('../input/freesound-audio-tagging-2019/train_noisy.zip', 'r') as zip_ref:\n",
        " #   zip_ref.extractall('../output/kaggle/working/train')\n",
        "\n",
        "    #\n"
      ],
      "execution_count": 0,
      "outputs": []
    },
    {
      "cell_type": "code",
      "metadata": {
        "id": "_mJMOENuFXyk",
        "colab_type": "code",
        "trusted": true,
        "colab": {}
      },
      "source": [
        "## We define this parameters for our audio processing\n",
        "\n",
        "class conf:\n",
        "    # Preprocessing settings\n",
        "    sampling_rate = 44100\n",
        "    duration = 5\n",
        "    hop_length = 400\n",
        "    fmin = 20\n",
        "    fmax = sampling_rate // 2\n",
        "    n_mels = 128\n",
        "    n_fft = n_mels * 20\n",
        "    samples = sampling_rate * duration\n",
        "\n",
        "\n"
      ],
      "execution_count": 0,
      "outputs": []
    },
    {
      "cell_type": "code",
      "metadata": {
        "id": "eneZDekCNtNF",
        "colab_type": "code",
        "trusted": true,
        "colab": {}
      },
      "source": [
        "train_path = '../output/kaggle/working/train'\n",
        "#train_noisy_path = '../input/train_noisy/'\n"
      ],
      "execution_count": 0,
      "outputs": []
    },
    {
      "cell_type": "code",
      "metadata": {
        "id": "m_6O_hIOFXzX",
        "colab_type": "code",
        "trusted": true,
        "colab": {}
      },
      "source": [
        "## We read the audio data, and trim or padded, if it is needed\n",
        "## This code was borrowed from https://www.kaggle.com/christofhenkel/keras-baseline-lstm-attention-5-fold\n",
        "\n",
        "def read_audio(conf, pathname, trim_long_data):\n",
        "    y, sr = librosa.load(pathname, sr=conf.sampling_rate)\n",
        "    # trim silence\n",
        "    if 0 < len(y): # workaround: 0 length causes error\n",
        "        y, _ = librosa.effects.trim(y) # trim, top_db=default(60)\n",
        "    # make it unified length to conf.samples\n",
        "    if len(y) > conf.samples: # long enough\n",
        "        if trim_long_data:\n",
        "            y = y[0:0+conf.samples]\n",
        "    else: # pad blank\n",
        "        padding = conf.samples - len(y)    # add padding at both ends\n",
        "        offset = padding // 2\n",
        "        y = np.pad(y, (offset, conf.samples - len(y) - offset), 'constant')\n",
        "    return y\n",
        "\n",
        "\n",
        "## We convert our raw audio into a mel spectogram\n",
        "def audio_to_melspectrogram(conf, audio):\n",
        "    spectrogram = librosa.feature.melspectrogram(audio, \n",
        "                                                 sr=conf.sampling_rate,\n",
        "                                                 n_mels=conf.n_mels,\n",
        "                                                 hop_length=conf.hop_length,\n",
        "                                                 n_fft=conf.n_fft,\n",
        "                                                 fmin=conf.fmin,\n",
        "                                                 fmax=conf.fmax)\n",
        "    spectrogram = librosa.power_to_db(spectrogram)\n",
        "    spectrogram = spectrogram.astype(np.float32)\n",
        "    return spectrogram\n",
        "\n",
        "#This implement the previous two function for one file\n",
        "def read_as_melspectrogram(conf, pathname, trim_long_data, debug_display=False):\n",
        "    x = read_audio(conf, pathname, trim_long_data)\n",
        "    mels = audio_to_melspectrogram(conf, x)\n",
        "    if debug_display:\n",
        "        IPython.display.display(IPython.display.Audio(x, rate=conf.sampling_rate))\n",
        "        show_melspectrogram(conf, mels)\n",
        "    return mels\n",
        "\n",
        "#This generalizes for all the audio files you have\n",
        "def convert_wav_to_image(df, source):\n",
        "    X = []\n",
        "    for i, row in tqdm_notebook(df.iterrows()):\n",
        "        try:\n",
        "            x = read_as_melspectrogram(conf, f'{source[0]}/{str(row.fname)}', trim_long_data=True)\n",
        "        except:\n",
        "            x = read_as_melspectrogram(conf, f'{source[1]}/{str(row.fname)}', trim_long_data=True)\n",
        "\n",
        "        X.append(x.transpose())\n",
        "    return X"
      ],
      "execution_count": 0,
      "outputs": []
    },
    {
      "cell_type": "code",
      "metadata": {
        "id": "4vAdpu4BFXza",
        "colab_type": "code",
        "outputId": "7da8f902-8335-4a9e-a9b2-339d4b91363d",
        "trusted": true,
        "colab": {
          "referenced_widgets": [
            "b8f8bc2431744d809fed238c4f8ef542",
            "c60d3e17a50244d78ecb1ec46b9eefb1"
          ]
        }
      },
      "source": [
        "#We get all our spectrograms\n",
        "X = np.array(convert_wav_to_image(df, source=[train_path]))\n"
      ],
      "execution_count": 0,
      "outputs": [
        {
          "output_type": "stream",
          "text": [
            "/opt/conda/lib/python3.6/site-packages/ipykernel_launcher.py:45: TqdmDeprecationWarning: This function will be removed in tqdm==5.0.0\n",
            "Please use `tqdm.notebook.tqdm` instead of `tqdm.tqdm_notebook`\n"
          ],
          "name": "stderr"
        },
        {
          "output_type": "display_data",
          "data": {
            "text/plain": [
              "HBox(children=(FloatProgress(value=1.0, bar_style='info', max=1.0), HTML(value='')))"
            ],
            "application/vnd.jupyter.widget-view+json": {
              "version_major": 2,
              "version_minor": 0,
              "model_id": "c60d3e17a50244d78ecb1ec46b9eefb1"
            }
          },
          "metadata": {
            "tags": []
          }
        }
      ]
    },
    {
      "cell_type": "code",
      "metadata": {
        "id": "KMPHUERZFXzg",
        "colab_type": "code",
        "trusted": true,
        "colab": {}
      },
      "source": [
        "def scaled_dot_product_attention(query, key, value, mask):\n",
        "  matmul_qk = tf.matmul(query, key, transpose_b=True)\n",
        "\n",
        "  depth = tf.cast(tf.shape(key)[-1], tf.float32)\n",
        "  logits = matmul_qk / tf.math.sqrt(depth)\n",
        "\n",
        "  # add the mask zero out padding tokens.\n",
        "  if mask is not None:\n",
        "    logits += (mask * -1e9)\n",
        "\n",
        "  attention_weights = tf.nn.softmax(logits, axis=-1)\n",
        "\n",
        "  return tf.matmul(attention_weights, value)"
      ],
      "execution_count": 0,
      "outputs": []
    },
    {
      "cell_type": "code",
      "metadata": {
        "id": "-F4_iB_KFXzj",
        "colab_type": "code",
        "trusted": true,
        "colab": {}
      },
      "source": [
        "class MultiHeadAttention(tf.keras.layers.Layer):\n",
        "\n",
        "  def __init__(self, d_model, num_heads, name=\"multi_head_attention\"):\n",
        "    super(MultiHeadAttention, self).__init__(name=name)\n",
        "    self.num_heads = num_heads\n",
        "    self.d_model = d_model\n",
        "\n",
        "    assert d_model % self.num_heads == 0\n",
        "\n",
        "    self.depth = d_model // self.num_heads\n",
        "\n",
        "    self.query_dense = tf.keras.layers.Dense(units=d_model)\n",
        "    self.key_dense = tf.keras.layers.Dense(units=d_model)\n",
        "    self.value_dense = tf.keras.layers.Dense(units=d_model)\n",
        "\n",
        "    self.dense = tf.keras.layers.Dense(units=d_model)\n",
        "\n",
        "  def split_heads(self, inputs, batch_size):\n",
        "    inputs = tf.reshape(\n",
        "        inputs, shape=(batch_size, -1, self.num_heads, self.depth))\n",
        "    return tf.transpose(inputs, perm=[0, 2, 1, 3])\n",
        "\n",
        "  def call(self, inputs):\n",
        "    query, key, value, mask = inputs['query'], inputs['key'], inputs[\n",
        "        'value'], inputs['mask']\n",
        "    batch_size = tf.shape(query)[0]\n",
        "\n",
        "    # linear layers\n",
        "    query = self.query_dense(query)\n",
        "    key = self.key_dense(key)\n",
        "    value = self.value_dense(value)\n",
        "\n",
        "    # split heads\n",
        "    query = self.split_heads(query, batch_size)\n",
        "    key = self.split_heads(key, batch_size)\n",
        "    value = self.split_heads(value, batch_size)\n",
        "\n",
        "    scaled_attention = scaled_dot_product_attention(query, key, value, mask)\n",
        "\n",
        "    scaled_attention = tf.transpose(scaled_attention, perm=[0, 2, 1, 3])\n",
        "\n",
        "    concat_attention = tf.reshape(scaled_attention,\n",
        "                                  (batch_size, -1, self.d_model))\n",
        "\n",
        "    outputs = self.dense(concat_attention)\n",
        "\n",
        "    return outputs"
      ],
      "execution_count": 0,
      "outputs": []
    },
    {
      "cell_type": "code",
      "metadata": {
        "id": "xsfTXzebFXzn",
        "colab_type": "code",
        "trusted": true,
        "colab": {}
      },
      "source": [
        "class PositionalEncoding(tf.keras.layers.Layer):\n",
        "\n",
        "  def __init__(self, position, d_model):\n",
        "    super(PositionalEncoding, self).__init__()\n",
        "    self.pos_encoding = self.positional_encoding(position, d_model)\n",
        "\n",
        "  def get_angles(self, position, i, d_model):\n",
        "    angles = 1 / tf.pow(10000, (2 * (i // 2)) / tf.cast(d_model, tf.float32))\n",
        "    return position * angles\n",
        "\n",
        "  def positional_encoding(self, position, d_model):\n",
        "    angle_rads = self.get_angles(\n",
        "        position=tf.range(position, dtype=tf.float32)[:, tf.newaxis],\n",
        "        i=tf.range(d_model, dtype=tf.float32)[tf.newaxis, :],\n",
        "        d_model=d_model)\n",
        "    # apply sin to even index in the array\n",
        "    sines = tf.math.sin(angle_rads[:, 0::2])\n",
        "    # apply cos to odd index in the array\n",
        "    cosines = tf.math.cos(angle_rads[:, 1::2])\n",
        "\n",
        "    pos_encoding = tf.concat([sines, cosines], axis=-1)\n",
        "    pos_encoding = pos_encoding[tf.newaxis, ...]\n",
        "    return tf.cast(pos_encoding, tf.float32)\n",
        "\n",
        "  def call(self, inputs):\n",
        "    return inputs + self.pos_encoding[:, :tf.shape(inputs)[1], :]"
      ],
      "execution_count": 0,
      "outputs": []
    },
    {
      "cell_type": "code",
      "metadata": {
        "id": "4pq5OKITFXzz",
        "colab_type": "code",
        "trusted": true,
        "colab": {}
      },
      "source": [
        "# This allows to the transformer to know where there is real data and where it is padded\n",
        "def create_padding_mask(seq):\n",
        "  seq = tf.cast(tf.math.equal(seq, 0), tf.float32)\n",
        "  \n",
        "  # add extra dimensions to add the padding\n",
        "  # to the attention logits.\n",
        "  return seq[:, tf.newaxis, tf.newaxis, :]  # (batch_size, 1, 1, seq_len)"
      ],
      "execution_count": 0,
      "outputs": []
    },
    {
      "cell_type": "code",
      "metadata": {
        "id": "U389WZgtFXzq",
        "colab_type": "code",
        "trusted": true,
        "colab": {}
      },
      "source": [
        "def encoder_layer(units, d_model, num_heads, dropout,name=\"encoder_layer\"):\n",
        "  inputs = tf.keras.Input(shape=(None,d_model ), name=\"inputs\")\n",
        "  padding_mask = tf.keras.Input(shape=(1, 1, None), name=\"padding_mask\")\n",
        "\n",
        "  attention = MultiHeadAttention(\n",
        "      d_model, num_heads, name=\"attention\")({\n",
        "          'query': inputs,\n",
        "          'key': inputs,\n",
        "          'value': inputs,\n",
        "          'mask': padding_mask\n",
        "      })\n",
        "  attention = tf.keras.layers.Dropout(rate=dropout)(attention)\n",
        "  attention = tf.keras.layers.LayerNormalization(\n",
        "      epsilon=1e-6)(inputs + attention)\n",
        "\n",
        "  outputs = tf.keras.layers.Dense(units=units, activation='relu')(attention)\n",
        "  outputs = tf.keras.layers.Dense(units=d_model)(outputs)\n",
        "  outputs = tf.keras.layers.Dropout(rate=dropout)(outputs)\n",
        "  outputs = tf.keras.layers.LayerNormalization(\n",
        "      epsilon=1e-6)(attention + outputs)\n",
        "\n",
        "  return tf.keras.Model(\n",
        "      inputs=[inputs, padding_mask], outputs=outputs, name=name)"
      ],
      "execution_count": 0,
      "outputs": []
    },
    {
      "cell_type": "code",
      "metadata": {
        "id": "QPEbBpxqFXzt",
        "colab_type": "code",
        "trusted": true,
        "colab": {}
      },
      "source": [
        "def encoder(time_steps,\n",
        "            num_layers,\n",
        "            units,\n",
        "            d_model,\n",
        "            num_heads,\n",
        "            dropout,\n",
        "            projection,\n",
        "            name=\"encoder\"):\n",
        "  inputs = tf.keras.Input(shape=(None,d_model), name=\"inputs\")\n",
        "  padding_mask = tf.keras.Input(shape=(1, 1, None), name=\"padding_mask\")\n",
        "  \n",
        "  if projection=='linear':\n",
        "    ## We implement a linear projection based on Very Deep Self-Attention Networks for End-to-End Speech Recognition. Retrieved from https://arxiv.org/abs/1904.13377\n",
        "    projection=tf.keras.layers.Dense( d_model,use_bias=True, activation='linear')(inputs)\n",
        "  \n",
        "  else:\n",
        "    projection=tf.identity(inputs)\n",
        "   \n",
        "  projection *= tf.math.sqrt(tf.cast(d_model, tf.float32))\n",
        "  projection = PositionalEncoding(time_steps, d_model)(projection)\n",
        "\n",
        "  outputs = tf.keras.layers.Dropout(rate=dropout)(projection)\n",
        "\n",
        "  for i in range(num_layers):\n",
        "    outputs = encoder_layer(\n",
        "        units=units,\n",
        "        d_model=d_model,\n",
        "        num_heads=num_heads,\n",
        "        dropout=dropout,\n",
        "        name=\"encoder_layer_{}\".format(i),\n",
        "    )([outputs, padding_mask])\n",
        " \n",
        " \n",
        "  \n",
        "\n",
        " \n",
        "  return tf.keras.Model(\n",
        "      inputs=[inputs, padding_mask], outputs=outputs, name=name)"
      ],
      "execution_count": 0,
      "outputs": []
    },
    {
      "cell_type": "code",
      "metadata": {
        "id": "n9uLLTcPFXzw",
        "colab_type": "code",
        "trusted": true,
        "colab": {}
      },
      "source": [
        "def transformer(time_steps,\n",
        "                num_layers,\n",
        "                units,\n",
        "                d_model,\n",
        "                num_heads,\n",
        "                dropout,\n",
        "                output_size,\n",
        "                projection,\n",
        "                name=\"transformer\"):\n",
        "  inputs = tf.keras.Input(shape=(None,d_model), name=\"inputs\")\n",
        "  \n",
        "  \n",
        "  enc_padding_mask = tf.keras.layers.Lambda(\n",
        "      create_padding_mask, output_shape=(1, 1, None),\n",
        "      name='enc_padding_mask')(tf.dtypes.cast(\n",
        "          \n",
        "    #Like our input has a dimension of length X d_model but the masking is applied to a vector\n",
        "    # We get the sum for each row and result is a vector. So, if result is 0 it is because in that position was masked      \n",
        "    tf.math.reduce_sum(\n",
        "    inputs,\n",
        "    axis=2,\n",
        "    keepdims=False,\n",
        "    name=None\n",
        "), tf.int32))\n",
        "  \n",
        "\n",
        "  enc_outputs = encoder(\n",
        "      time_steps=time_steps,\n",
        "      num_layers=num_layers,\n",
        "      units=units,\n",
        "      d_model=d_model,\n",
        "      num_heads=num_heads,\n",
        "      dropout=dropout,\n",
        "      projection=projection,\n",
        "      name='encoder'\n",
        "  )(inputs=[inputs, enc_padding_mask])\n",
        "\n",
        "  #We reshape for feeding our FC in the next step\n",
        "  outputs=tf.reshape(enc_outputs,(-1,time_steps*d_model))\n",
        "  \n",
        "  #We predict our class\n",
        "  outputs = tf.keras.layers.Dense(units=output_size,use_bias=True,activation='softmax', name=\"outputs\")(outputs)\n",
        "\n",
        "  return tf.keras.Model(inputs=[inputs], outputs=outputs, name='audio_class')"
      ],
      "execution_count": 0,
      "outputs": []
    },
    {
      "cell_type": "code",
      "metadata": {
        "id": "OU4hWuxYFX0C",
        "colab_type": "code",
        "trusted": true,
        "colab": {}
      },
      "source": [
        "#We get our train and test set\n",
        "X_train,X_test, Y_train, Y_test =train_test_split(X,Y, test_size=0.2, random_state=27)\n",
        "\n"
      ],
      "execution_count": 0,
      "outputs": []
    },
    {
      "cell_type": "code",
      "metadata": {
        "id": "oT948RgHgKMJ",
        "colab_type": "code",
        "trusted": true,
        "colab": {}
      },
      "source": [
        "projection=['linear','none']\n",
        "accuracy=[]\n",
        "proj_implemented=[]"
      ],
      "execution_count": 0,
      "outputs": []
    },
    {
      "cell_type": "code",
      "metadata": {
        "id": "y2ifMZKEFX0J",
        "colab_type": "code",
        "trusted": true,
        "colab": {}
      },
      "source": [
        "for i in projection:\n",
        "  NUM_LAYERS = 2\n",
        "  D_MODEL = X.shape[2]\n",
        "  NUM_HEADS = 4\n",
        "  UNITS = 1024\n",
        "  DROPOUT = 0.1\n",
        "  TIME_STEPS= X.shape[1]\n",
        "  OUTPUT_SIZE=80\n",
        "  EPOCHS = 10\n",
        "  EXPERIMENTS=10\n",
        "\n",
        "  \n",
        "  for j in range(EXPERIMENTS):\n",
        "    \n",
        "    \n",
        "    model = transformer(time_steps=TIME_STEPS,\n",
        "      num_layers=NUM_LAYERS,\n",
        "      units=UNITS,\n",
        "      d_model=D_MODEL,\n",
        "      num_heads=NUM_HEADS,\n",
        "      dropout=DROPOUT,\n",
        "      output_size=OUTPUT_SIZE,  \n",
        "      projection=i  )\n",
        "    \n",
        "    model.compile(optimizer=tf.keras.optimizers.Adam(0.000001), loss='categorical_crossentropy', metrics=['accuracy'])\n",
        "\n",
        "\n",
        "    history=model.fit(X_train,Y_train, epochs=EPOCHS, validation_data=(X_test, Y_test))\n",
        "\n",
        "    accuracy.append(max(history.history['val_accuracy']))\n",
        "      \n",
        "    proj_implemented.append(i)\n",
        "    \n",
        "    del model\n",
        "    \n",
        "    del history\n",
        "      \n",
        "   \n"
      ],
      "execution_count": 0,
      "outputs": []
    },
    {
      "cell_type": "code",
      "metadata": {
        "id": "chxvhHsAFX02",
        "colab_type": "code",
        "trusted": true,
        "colab": {}
      },
      "source": [
        "accuracy=pd.DataFrame(accuracy, columns=['accuracy'])\n",
        "proj_implemented=pd.DataFrame(proj_implemented, columns=['projection'])\n",
        "results=pd.concat([accuracy,proj_implemented],axis=1)\n"
      ],
      "execution_count": 0,
      "outputs": []
    },
    {
      "cell_type": "code",
      "metadata": {
        "id": "4LJeC1iwccFA",
        "colab_type": "code",
        "trusted": true,
        "colab": {}
      },
      "source": [
        "results.groupby('projection').mean()\n"
      ],
      "execution_count": 0,
      "outputs": []
    },
    {
      "cell_type": "code",
      "metadata": {
        "id": "bA0Y-5O0dUtz",
        "colab_type": "code",
        "trusted": true,
        "colab": {}
      },
      "source": [
        "results.groupby('projection').std()"
      ],
      "execution_count": 0,
      "outputs": []
    }
  ]
}